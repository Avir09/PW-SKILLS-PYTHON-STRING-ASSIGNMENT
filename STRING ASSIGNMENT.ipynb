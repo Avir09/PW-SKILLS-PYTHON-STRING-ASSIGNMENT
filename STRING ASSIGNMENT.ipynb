{
 "cells": [
  {
   "cell_type": "raw",
   "id": "b672927f-4225-4b42-9abe-d2dc6f7df5b8",
   "metadata": {},
   "source": [
    "Q.1\n",
    "To store a single quote (') as a string in a variable, you can use double quotes (\"\") to enclose the string or escape the single quote with a backslash (). Here are two examples:\n",
    "\n",
    "Using double quotes:\n",
    "my_variable = \"This string contains a single quote (')\"\n",
    "Using an escape character:\n",
    "my_variable = 'This string contains a single quote (\\')'\n",
    "Both of these approaches will result in a string variable that contains a single quote.                      "
   ]
  },
  {
   "cell_type": "raw",
   "id": "bba9ff84-9bde-4cf5-80d5-b9567ce26671",
   "metadata": {},
   "source": [
    "Q.2\n",
    "The variable x is a string type variable.\n",
    "\n",
    "In Python, a character is not a distinct data type, but rather a string of length one. Therefore, any variable that contains a single character is considered a string variable.\n",
    "\n",
    "In the given variable x = 'a(', it contains a string with two characters, 'a' and '('. Since it has more than one character, it can only be a string type variable.\n",
    "\n",
    "So, x is a string type variable, not a character type variable."
   ]
  },
  {
   "cell_type": "raw",
   "id": "c91893bf-f628-46c4-b0e3-28048131e886",
   "metadata": {},
   "source": [
    "Q.3\n",
    "Here is how you can apply the specified functions on the given string:\n",
    "\n",
    "1.SP - This function is used to split a string into a list of substrings based on a specified delimiter. For example:\n",
    "string = 'Welcome to Python foundation course'\n",
    "substring_list = string.split(' ')\n",
    "print(substring_list)\n",
    "\n",
    "Output: ['Welcome', 'to', 'Python', 'foundation', 'course']\n",
    "\n",
    "\n",
    "2.find() - This function returns the index of the first occurrence of a specified substring in a string. If the substring is not found, it returns -1. For example:\n",
    "string = 'Welcome to Python foundation course'\n",
    "index = string.find('Python')\n",
    "print(index)\n",
    "\n",
    "Output: 8\n",
    "\n",
    "\n",
    "3.count() - This function returns the number of occurrences of a specified substring in a string. For example:\n",
    "string = 'Welcome to Python foundation course'\n",
    "count = string.count('o')\n",
    "print(count)\n",
    "\n",
    "Output: 5\n",
    "\n",
    "\n",
    "4.len() - This function returns the length of a string. For example:\n",
    "string = 'Welcome to Python foundation course'\n",
    "length = len(string)\n",
    "print(length)\n",
    "\n",
    "Output: 36\n",
    "\n",
    "\n",
    "5.Concatenation - This operation is used to combine two or more strings into a single string. For example:\n",
    "string1 = 'Welcome to'\n",
    "string2 = 'Python foundation course'\n",
    "result = string1 + ' ' + string2\n",
    "print(result)\n",
    "\n",
    "Output: Welcome to Python foundation course"
   ]
  },
  {
   "cell_type": "raw",
   "id": "32d95bad-84aa-428d-bf5a-ac35b7505747",
   "metadata": {},
   "source": [
    "Q.4\n",
    "Here's how to calculate the requested values for the given string variable \"wor\":\n",
    "\n",
    "(a) Total number of alphabets in lowercase:\n",
    "wor = 'PanaJ1@T//56('\n",
    "lowercase_count = sum(1 for c in wor if c.islower())\n",
    "print(\"Total number of lowercase alphabets:\", lowercase_count)\n",
    "\n",
    "Output: Total number of lowercase alphabets: 3\n",
    "\n",
    "\n",
    "(b) Total number of alphabets in uppercase:\n",
    "wor = 'PanaJ1@T//56('\n",
    "uppercase_count = sum(1 for c in wor if c.isupper())\n",
    "print(\"Total number of uppercase alphabets:\", uppercase_count)\n",
    "\n",
    "Output: Total number of uppercase alphabets: 3\n",
    "\n",
    "\n",
    "Total number of numericals in string:\n",
    "wor = 'PanaJ1@T//56('\n",
    "numeric_count = sum(1 for c in wor if c.isnumeric())\n",
    "print(\"Total number of numericals:\", numeric_count)\n",
    "\n",
    "Output: Total number of numericals: 2"
   ]
  },
  {
   "cell_type": "raw",
   "id": "c57a3b15-c627-4e52-9545-9b66fd7d9bea",
   "metadata": {},
   "source": [
    "Q.5\n"
   ]
  }
 ],
 "metadata": {
  "kernelspec": {
   "display_name": "Python 3 (ipykernel)",
   "language": "python",
   "name": "python3"
  },
  "language_info": {
   "codemirror_mode": {
    "name": "ipython",
    "version": 3
   },
   "file_extension": ".py",
   "mimetype": "text/x-python",
   "name": "python",
   "nbconvert_exporter": "python",
   "pygments_lexer": "ipython3",
   "version": "3.10.8"
  }
 },
 "nbformat": 4,
 "nbformat_minor": 5
}
